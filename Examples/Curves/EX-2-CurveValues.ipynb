{
 "cells": [
  {
   "cell_type": "markdown",
   "id": "3bb10551",
   "metadata": {},
   "source": [
    "# 2) Curve Values\n",
    "### Preparation step\n",
    "First we need to import necessary libraries and configuration from the _config.ini_ file"
   ]
  },
  {
   "cell_type": "code",
   "execution_count": null,
   "id": "93ddb0ee",
   "metadata": {},
   "outputs": [],
   "source": [
    "import datetime\n",
    "import requests\n",
    "import json\n",
    "import configparser\n",
    "\n",
    "#config\n",
    "config = configparser.ConfigParser()\n",
    "config.read('C:\\\\RDMSPython\\\\config.ini')\n",
    "api = config['RDMS']['Api']\n",
    "headers = { 'Authorization' : config['RDMS']['Key'] }"
   ]
  },
  {
   "cell_type": "markdown",
   "id": "4f9895bc",
   "metadata": {},
   "source": [
    "### 2.1) FetchCurveValues\n",
    "Uses the _v1/CurveValues/{CurveID}_ RDMS REST API endpoint and has one mandatory parameter, CurveID. The script returns raw values for the supplied CurveID, optionally restricted by any of the other parameters."
   ]
  },
  {
   "cell_type": "code",
   "execution_count": null,
   "id": "4a205681",
   "metadata": {},
   "outputs": [],
   "source": [
    "#params\n",
    "curveid = 111975\n",
    "scenarioID = 0\n",
    "minValueDate = '2020-03-01'\n",
    "maxValueDate = '2020-03-31'\n",
    "resultTimezone = 'UTC'\n",
    "\n",
    "#curve data\n",
    "print('requesting curve ' + str(curveid) + ' data..')\n",
    "result = requests.get(api + '/CurveValues/'+str(curveid)+'?/ScenarioID='+str(scenarioID)+'&MinValueDate='+minValueDate+'&MaxValueDate='+maxValueDate+'&ResultTimezone='+resultTimezone, headers=headers, verify=True)\n",
    "\n",
    "\n",
    "if result.status_code == 200:\n",
    "    values = result.json()\n",
    "    print(str(len(values)) + ' curve data points returned')\n",
    "    for value in values:\n",
    "        print(value)\n",
    "else:\n",
    "    print('Request failed: ' + str(result.status_code))"
   ]
  },
  {
   "cell_type": "markdown",
   "id": "c38c70c2",
   "metadata": {},
   "source": [
    "### 2.2) FetchCurveValuesAggregated\n",
    "Uses the _v1/CurveValues/Aggregated/{CurveID}/{ResultPeriodType}/{ResultPeriodLength}_ RDMS REST API endpoint and has three mandatory parameters CurveID, ResultPeriodType and Result Period Length. This script is used to aggregate a curveID’s values over a required result period. (See _example 4.1) FetchPeriodTypes_ for a list of period types)."
   ]
  },
  {
   "cell_type": "code",
   "execution_count": null,
   "id": "c01fd828",
   "metadata": {},
   "outputs": [],
   "source": [
    "#sample params\n",
    "curveid = 111975\n",
    "scenarioID = 0\n",
    "resultPeriodType = 'Months'\n",
    "resultPeriodLength = 1\n",
    "minValueDate = '2019-01-01'\n",
    "maxValueDate = '2020-03-31'\n",
    "resultTimezone = 'UTC'\n",
    "\n",
    "#curve data\n",
    "print('requesting curve ' + str(curveid) + ' data..')\n",
    "\n",
    "result = requests.get(api + '/CurveValues/Aggregated/'+str(curveid)+'/'+resultPeriodType+'/'+str(resultPeriodLength)+'?scenarioID='+str(scenarioID)+'&MinValueDate='+minValueDate+'&MaxValueDate='+maxValueDate+'&ResultTimezone='+resultTimezone, headers=headers, verify=True)\n",
    "if result.status_code == 200:\n",
    "    values = result.json()\n",
    "    print(str(len(values)) + ' curve data points returned')\n",
    "    for value in values:\n",
    "        print(value)\n",
    "else:\n",
    "    print('Request failed: ' + str(result.status_code))"
   ]
  },
  {
   "cell_type": "markdown",
   "id": "24f7e293",
   "metadata": {},
   "source": [
    "### 2.3) FetchCurveValuesAggregatedCSV\n",
    "Uses the _v1/CurveValues/Aggregated/{CurveID}/{ResultPeriodType}/{ResultPeriodLength}_ RDMS REST API endpoint, and follows the same description as in _example 2.2) FetchCurveValuesAggregated_ However, this script returns the values in CSV format."
   ]
  },
  {
   "cell_type": "code",
   "execution_count": null,
   "id": "aa00b3c0",
   "metadata": {},
   "outputs": [],
   "source": [
    "#sample params\n",
    "curveid = 111975\n",
    "scenarioID = 0\n",
    "resultPeriodType = 'Months'\n",
    "resultPeriodLength = 1\n",
    "minValueDate = '2019-01-01'\n",
    "maxValueDate = '2020-03-31'\n",
    "resultTimezone = 'UTC'\n",
    "\n",
    "#curve data\n",
    "print('requesting curve ' + str(curveid) + ' data..')\n",
    "\n",
    "result = requests.get(api + '/CurveValues/Aggregated/'+str(curveid)+'/'+resultPeriodType+'/'+str(resultPeriodLength)+'?scenarioID='+str(scenarioID)+'&MinValueDate='+minValueDate+'&MaxValueDate='+maxValueDate+'&ResultTimezone='+resultTimezone, headers=headers, verify=True)\n",
    "\n",
    "if result.status_code == 200:\n",
    "    decoded_content = result.content.decode('utf-8')\n",
    "    cr = csv.reader(decoded_content.splitlines(), delimiter='\\n')\n",
    "    my_list = list(cr)\n",
    "\n",
    "    print('matching records...')\n",
    "    for row in my_list:\n",
    "        print(row)\n",
    "else:\n",
    "    print('Request failed: ' + str(result.status_code))"
   ]
  },
  {
   "cell_type": "markdown",
   "id": "9575d95e",
   "metadata": {},
   "source": [
    "### 2.4) FetchForecastCurveValues\n",
    "Uses the _v1/CurveValues/Forecast/{CurveID}/{ScenarioID}/{ForecastDate}_ RDMS REST API Endpoint and has three mandatory parameters, CurveID, ScenarioID and ForecastDate. The script returns values for a specific Curve ID, Scenario ID and Forecast Date."
   ]
  },
  {
   "cell_type": "code",
   "execution_count": null,
   "id": "21d037ba",
   "metadata": {},
   "outputs": [],
   "source": [
    "#params\n",
    "curveid = 111975\n",
    "scenarioID = 0\n",
    "forecastDate = '2000-01-01'\n",
    "minValueDate = '2020-03-01'\n",
    "maxValueDate = '2020-03-31'\n",
    "resultTimezone = 'UTC'\n",
    "\n",
    "#curve data\n",
    "print('requesting curve ' + str(curveid) + ' data..')\n",
    "result = requests.get(api + '/CurveValues/Forecast/'+str(curveid)+'/'+str(scenarioID)+'/'+forecastDate+'?MinValueDate='+minValueDate+'&MaxValueDate='+maxValueDate+'&ResultTimezone='+resultTimezone, headers=headers, verify=True)\n",
    "\n",
    "\n",
    "if result.status_code == 200:\n",
    "    values = result.json()\n",
    "    print(str(len(values)) + ' curve data points returned')\n",
    "    for value in values:\n",
    "        print(value)\n",
    "else:\n",
    "    print('Request failed: ' + str(result.status_code))"
   ]
  },
  {
   "cell_type": "markdown",
   "id": "efa6c11b",
   "metadata": {},
   "source": [
    "### 2.5) FetchLatestForecastCurveValues\n",
    "Uses the _v1/CurveValues/LatestForecast/{CurveID}/{ScenarioID}_ RDMS REST API Endpoint and has two mandatory parameters, CurveID and ScenarioID. The script returns the curve values for a given curveID and scenarioID for the latest available forecastDate."
   ]
  },
  {
   "cell_type": "code",
   "execution_count": null,
   "id": "947c39e1",
   "metadata": {},
   "outputs": [],
   "source": [
    "#params\n",
    "curveid = 111975\n",
    "scenarioID = 0\n",
    "asAtDate = '2020-03-15'\n",
    "minValueDate = '2020-03-01'\n",
    "maxValueDate = '2020-03-31'\n",
    "resultTimezone = 'UTC'\n",
    "\n",
    "#curve data\n",
    "print('requesting curve ' + str(curveid) + ' data..')\n",
    "result = requests.get(api + '/CurveValues/LatestForecast/'+str(curveid)+'/'+str(scenarioID)+'?AsAtDate='+asAtDate+'&MinValueDate='+minValueDate+'&MaxValueDate='+maxValueDate+'&ResultTimezone='+resultTimezone, headers=headers, verify=True)\n",
    "\n",
    "\n",
    "if result.status_code == 200:\n",
    "    values = result.json()\n",
    "    print(str(len(values)) + ' curve data points returned')\n",
    "    for value in values:\n",
    "        print(value)\n",
    "else:\n",
    "    print('Request failed: ' + str(result.status_code))"
   ]
  }
 ],
 "metadata": {
  "kernelspec": {
   "display_name": "Python 3 (ipykernel)",
   "language": "python",
   "name": "python3"
  },
  "language_info": {
   "codemirror_mode": {
    "name": "ipython",
    "version": 3
   },
   "file_extension": ".py",
   "mimetype": "text/x-python",
   "name": "python",
   "nbconvert_exporter": "python",
   "pygments_lexer": "ipython3",
   "version": "3.9.12"
  }
 },
 "nbformat": 4,
 "nbformat_minor": 5
}
