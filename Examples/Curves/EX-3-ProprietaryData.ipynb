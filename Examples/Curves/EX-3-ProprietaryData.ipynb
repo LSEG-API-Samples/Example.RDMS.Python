{
 "cells": [
  {
   "cell_type": "markdown",
   "id": "424ab61c",
   "metadata": {},
   "source": [
    "# 3) Proprietary Data\n",
    "### Preparation step\n",
    "First we need to import necessary libraries and configuration from the _config.ini_ file"
   ]
  },
  {
   "cell_type": "code",
   "execution_count": null,
   "id": "e25a8f30",
   "metadata": {},
   "outputs": [],
   "source": [
    "import datetime\n",
    "import requests\n",
    "import json\n",
    "import configparser\n",
    "\n",
    "#config\n",
    "config = configparser.ConfigParser()\n",
    "config.read('C:\\\\RDMSPython\\\\config.ini')\n",
    "api = config['RDMS']['Api']\n",
    "headers = { 'Authorization' : config['RDMS']['Key'] }"
   ]
  },
  {
   "cell_type": "markdown",
   "id": "4c10c7d6",
   "metadata": {},
   "source": [
    "### 3.1) RegisterPropCurve\n",
    "Uses the _v1/RegisterPropCurve_ RDMS REST API endpoint. The script takes parameters \n",
    "provided in JSON format in order to create a new prop curve."
   ]
  },
  {
   "cell_type": "code",
   "execution_count": null,
   "id": "195f53dc",
   "metadata": {},
   "outputs": [],
   "source": [
    "#register prop curve\n",
    "newCurve = {\n",
    "  'curveName': 'My Sample Curve',\n",
    "  'commodity': 'Gasoline',\n",
    "  'unitOfMeasure': 'MW',\n",
    "  'valueFrequency': 'Months (1)',\n",
    "  'variable': 'Gasoline Price',\n",
    "  'status': 'Forecast',\n",
    "  'timeZone': 'UTC',\n",
    "  'securityGroup': 'PUBLIC'\n",
    "}\n",
    "result = requests.post(api + '/RegisterPropCurve', json=newCurve, headers=headers, verify=True)\n",
    "\n",
    "if result.status_code == 200:\n",
    "    body = result.json()\n",
    "    print('Created ' + str(body['curveID']))\n",
    "else:\n",
    "    print('HTTP ' + str(result.status_code) + ' failed to save')\n",
    "    exit()"
   ]
  },
  {
   "cell_type": "markdown",
   "id": "0d0aec0d",
   "metadata": {},
   "source": [
    "### 3.2) PropCurveImport\n",
    "Uses the _v1/PropCurveImport_ RDMS REST API endpoint. The script takes parameters \n",
    "provided in JSON format in order to populate prop curve values."
   ]
  },
  {
   "cell_type": "code",
   "execution_count": null,
   "id": "fd278682",
   "metadata": {},
   "outputs": [],
   "source": [
    "resultPoints = []\n",
    "minDate = \"2020-04-01\"  # input start date\n",
    "maxDate = \"2020-09-01\"  # input end date\n",
    "#populate a list of months\n",
    "month_list = [i.strftime(\"%Y-%m-%d\") for i in pd.date_range(start=minDate, end=maxDate, freq='MS')]\n",
    "#build the curve points list\n",
    "for i in range(len(month_list)):\n",
    "    resultPoints.append({\n",
    "            \"valueDate\": dateutil.parser.parse(month_list[i]).isoformat(),\n",
    "            \"value\": (random.randrange(10,50))\n",
    "        })\n",
    "\n",
    "curveId = 910000024\n",
    "newForecast = {\n",
    "  \"curveID\": curveId,\n",
    "  \"scenarioID\": 0,\n",
    "  \"forecastDate\": datetime(2020, 3, 2, tzinfo=timezone.utc).isoformat(),\n",
    "  \"values\": resultPoints\n",
    "}\n",
    "\n",
    "result = requests.post(api + '/PropCurveImport', json=newForecast, headers=headers, verify=True)\n",
    "\n",
    "if result.status_code == 200:\n",
    "    print('Curve data saved')\n",
    "else:\n",
    "    print('HTTP ' + str(result.status_code) + ' failed to save')"
   ]
  }
 ],
 "metadata": {
  "kernelspec": {
   "display_name": "Python 3 (ipykernel)",
   "language": "python",
   "name": "python3"
  },
  "language_info": {
   "codemirror_mode": {
    "name": "ipython",
    "version": 3
   },
   "file_extension": ".py",
   "mimetype": "text/x-python",
   "name": "python",
   "nbconvert_exporter": "python",
   "pygments_lexer": "ipython3",
   "version": "3.9.12"
  }
 },
 "nbformat": 4,
 "nbformat_minor": 5
}
