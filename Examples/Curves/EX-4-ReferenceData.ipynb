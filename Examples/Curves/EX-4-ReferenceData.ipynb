{
 "cells": [
  {
   "cell_type": "markdown",
   "id": "f3103b1e",
   "metadata": {},
   "source": [
    "# 4) Reference Data\n",
    "### Preparation step\n",
    "First we need to import necessary libraries and configuration from the _config.ini_ file"
   ]
  },
  {
   "cell_type": "code",
   "execution_count": null,
   "id": "56724784",
   "metadata": {},
   "outputs": [],
   "source": [
    "import datetime\n",
    "import requests\n",
    "import json\n",
    "import configparser\n",
    "\n",
    "#config\n",
    "config = configparser.ConfigParser()\n",
    "config.read('C:\\\\RDMSPython\\\\config.ini')\n",
    "api = config['RDMS']['Api']\n",
    "headers = { 'Authorization' : config['RDMS']['Key'] }"
   ]
  },
  {
   "cell_type": "markdown",
   "id": "f726f0a4",
   "metadata": {},
   "source": [
    "### 4.1) FetchPeriodTypes\n",
    "Uses the _v1/PeriodTypes_ RDMS REST API endpoint and has no parameters. The script provides a list of supported period types for time granularity conversion."
   ]
  },
  {
   "cell_type": "code",
   "execution_count": null,
   "id": "e8498d8c",
   "metadata": {},
   "outputs": [],
   "source": [
    "#no params\n",
    "\n",
    "#curve data\n",
    "print('requesting period types data..')\n",
    "result = requests.get(api + '/PeriodTypes', headers=headers, verify=True)\n",
    "\n",
    "if result.status_code == 200:\n",
    "    print(result.json())\n",
    "else:\n",
    "    print('Request failed: ' + str(result.status_code))"
   ]
  },
  {
   "cell_type": "markdown",
   "id": "e00d9972",
   "metadata": {},
   "source": [
    "### 4.2) FetchTimezones\n",
    "Uses the _v1/Timezones_ RDMS REST API endpoint and has no parameters. The script provides a list of supported time zones"
   ]
  },
  {
   "cell_type": "code",
   "execution_count": null,
   "id": "fc984655",
   "metadata": {},
   "outputs": [],
   "source": [
    "#sample params\n",
    "curveid = 111975\n",
    "\n",
    "#curve data\n",
    "print('requesting timezones data..')\n",
    "result = requests.get(api + '/Timezones', headers=headers, verify=True)\n",
    "\n",
    "if result.status_code == 200:\n",
    "    print(result.json())\n",
    "else:\n",
    "    print('Request failed: ' + str(result.status_code))"
   ]
  }
 ],
 "metadata": {
  "kernelspec": {
   "display_name": "Python 3 (ipykernel)",
   "language": "python",
   "name": "python3"
  },
  "language_info": {
   "codemirror_mode": {
    "name": "ipython",
    "version": 3
   },
   "file_extension": ".py",
   "mimetype": "text/x-python",
   "name": "python",
   "nbconvert_exporter": "python",
   "pygments_lexer": "ipython3",
   "version": "3.9.12"
  }
 },
 "nbformat": 4,
 "nbformat_minor": 5
}
