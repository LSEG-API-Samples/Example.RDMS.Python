{
 "cells": [
  {
   "cell_type": "markdown",
   "id": "96bf443c",
   "metadata": {},
   "source": [
    "# 5) Summaries\n",
    "### Preparation step\n",
    "First we need to import necessary libraries and configuration from the _config.ini_ file"
   ]
  },
  {
   "cell_type": "code",
   "execution_count": null,
   "id": "ea9e8c09",
   "metadata": {},
   "outputs": [],
   "source": [
    "import datetime\n",
    "import requests\n",
    "import json\n",
    "import configparser\n",
    "\n",
    "#config\n",
    "config = configparser.ConfigParser()\n",
    "config.read('C:\\\\RDMSPython\\\\config.ini')\n",
    "api = config['RDMS']['Api']\n",
    "headers = { 'Authorization' : config['RDMS']['Key'] }"
   ]
  },
  {
   "cell_type": "markdown",
   "id": "9c3957b3",
   "metadata": {},
   "source": [
    "### 5.1) FetchCurveForecastList\n",
    "Uses the _v1/CurveForecastList/{CurveID}_ RDMS REST API endpoint and has one mandatory parameter, CurveID. This script will for a given curve, find the list of forecasts available for that curve, and show the available ForecastDates and the minimum and maximum valued dates for each, and the time of last update."
   ]
  },
  {
   "cell_type": "code",
   "execution_count": null,
   "id": "6ca53940",
   "metadata": {},
   "outputs": [],
   "source": [
    "#sample params\n",
    "curveid = 111975\n",
    "\n",
    "#curve data\n",
    "print('requesting curve ' + str(curveid) + ' data..')\n",
    "result = requests.get(api + '/CurveForecastList/'+str(curveid), headers=headers, verify=True)\n",
    "\n",
    "if result.status_code == 200:\n",
    "    print(result.json())\n",
    "else:\n",
    "    print('Request failed: ' + str(result.status_code))"
   ]
  },
  {
   "cell_type": "markdown",
   "id": "89a3d580",
   "metadata": {},
   "source": [
    "### 5.2) FetchCurveScenarios\n",
    "Uses the _v1/CurveScenario/{CurveID}_ RDMS REST API endpoint and has one mandatory parameter, CurveID. This script will for a given curve, find the list of available ScenarioIDs, optionally limited by Forecast Date and/or Value Date limits."
   ]
  },
  {
   "cell_type": "code",
   "execution_count": null,
   "id": "4b165264",
   "metadata": {},
   "outputs": [],
   "source": [
    "#sample params\n",
    "curveid = 111975\n",
    "\n",
    "#curve data\n",
    "print('requesting curve ' + str(curveid) + ' data..')\n",
    "result = requests.get(api + '/CurveScenario/'+str(curveid), headers=headers, verify=True)\n",
    "\n",
    "if result.status_code == 200:\n",
    "    print(result.json())\n",
    "else:\n",
    "    print('Request failed: ' + str(result.status_code))"
   ]
  },
  {
   "cell_type": "markdown",
   "id": "e604e15c",
   "metadata": {},
   "source": [
    "### 5.3) FetchCurveValueSummary\n",
    "Uses the _v1/CurveSummary/Values/{CurveID}_ RDMS REST API endpoint and has one mandatory parameter, CurveID. This script will for a given curve, find the last update time and the minimum and maximum value dates available."
   ]
  },
  {
   "cell_type": "code",
   "execution_count": null,
   "id": "ed0a11ff",
   "metadata": {},
   "outputs": [],
   "source": [
    "#sample params\n",
    "curveid = 111975\n",
    "valueDate = '2020-03-10'\n",
    "\n",
    "#curve data\n",
    "print('requesting curve ' + str(curveid) + ' data..')\n",
    "result = requests.get(api + '/CurveSummary/Values/'+str(curveid), headers=headers, verify=True)\n",
    "\n",
    "if result.status_code == 200:\n",
    "    print(result.json())\n",
    "else:\n",
    "    print('Request failed: ' + str(result.status_code))"
   ]
  },
  {
   "cell_type": "markdown",
   "id": "f52af777",
   "metadata": {},
   "source": [
    "### 5.4) FetchForecastSummary\n",
    "Uses the _v1/CurveSummary/Forecasts/{CurveID}_ RDMS REST API endpoint and has one mandatory parameter, CurveID. This script will for a given curve, find the count of available forecasts, and the minimum and maximum forecast date available. Optionally restrict to forecasts that cover a specific value date."
   ]
  },
  {
   "cell_type": "code",
   "execution_count": null,
   "id": "171195f4",
   "metadata": {},
   "outputs": [],
   "source": [
    "#params\n",
    "curveid = 111975\n",
    "forecastDate = '2000-01-01'\n",
    "\n",
    "#curve data\n",
    "print('requesting curve ' + str(curveid) + ' data..')\n",
    "result = requests.get(api + '/CurveForecast/'+str(curveid)+'/'+forecastDate, headers=headers, verify=True)\n",
    "\n",
    "if result.status_code == 200:\n",
    "    print(result.json())\n",
    "else:\n",
    "    print('Request failed: ' + str(result.status_code))"
   ]
  },
  {
   "cell_type": "markdown",
   "id": "fc9c3858",
   "metadata": {},
   "source": [
    "### 5.5) FetchForecastSummaryForValueDate\n",
    "Uses the _v1/CurveSummary/Forecasts/{CurveID}_ RDMS REST API endpoint and has one mandatory parameter, CurveID. This script follows the same description as in _example 5.4) FetchForecastSummary_, however there is an additional parameter used to filter on the ValueDate to restrict the results to certain forecasts."
   ]
  },
  {
   "cell_type": "code",
   "execution_count": null,
   "id": "051e7c07",
   "metadata": {},
   "outputs": [],
   "source": [
    "#params\n",
    "curveid = 111975\n",
    "valueDate = '2020-03-10'\n",
    "\n",
    "#curve data\n",
    "print('requesting curve ' + str(curveid) + ' data..')\n",
    "result = requests.get(api + '/CurveSummary/Forecasts/'+str(curveid)+'?ValueDate='+valueDate, headers=headers, verify=True)\n",
    "\n",
    "if result.status_code == 200:\n",
    "    print(result.json())\n",
    "else:\n",
    "    print('Request failed: ' + str(result.status_code))"
   ]
  }
 ],
 "metadata": {
  "kernelspec": {
   "display_name": "Python 3 (ipykernel)",
   "language": "python",
   "name": "python3"
  },
  "language_info": {
   "codemirror_mode": {
    "name": "ipython",
    "version": 3
   },
   "file_extension": ".py",
   "mimetype": "text/x-python",
   "name": "python",
   "nbconvert_exporter": "python",
   "pygments_lexer": "ipython3",
   "version": "3.9.12"
  }
 },
 "nbformat": 4,
 "nbformat_minor": 5
}
