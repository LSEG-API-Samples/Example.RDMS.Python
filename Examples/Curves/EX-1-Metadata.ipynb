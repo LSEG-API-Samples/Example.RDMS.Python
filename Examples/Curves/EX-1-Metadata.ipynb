{
 "cells": [
  {
   "cell_type": "markdown",
   "id": "d35b9c6a",
   "metadata": {},
   "source": [
    "# 1) Metadata\n",
    "### Preparation step\n",
    "First we need to import necessary libraries and configuration from the config.ini file"
   ]
  },
  {
   "cell_type": "code",
   "execution_count": null,
   "id": "4119f20d",
   "metadata": {},
   "outputs": [],
   "source": [
    "import datetime\n",
    "import requests\n",
    "import json\n",
    "import configparser\n",
    "\n",
    "#config\n",
    "config = configparser.ConfigParser()\n",
    "config.read('C:\\\\RDMSPython\\\\config.ini')\n",
    "api = config['RDMS']['Api']\n",
    "headers = { 'Authorization' : config['RDMS']['Key'] }"
   ]
  },
  {
   "cell_type": "markdown",
   "id": "4face794",
   "metadata": {},
   "source": [
    "### 1.1) GetMetadataByCurveID\n",
    "Uses the _v1/Metadata/{CurveID}_ RDMS REST API endpoint and takes a single CurveID \n",
    "as a mandatory parameter. The script lists all available metadata for the given CurveID."
   ]
  },
  {
   "cell_type": "code",
   "execution_count": null,
   "id": "c1af861b",
   "metadata": {},
   "outputs": [],
   "source": [
    "CurveID = 111975\n",
    "result = requests.get(api + '/Metadata/'+str(CurveID), headers=headers, verify=True)\n",
    "\n",
    "if result.status_code == 200:\n",
    "    print(result.json())\n",
    "else:\n",
    "    print('Request failed: ' + str(result.status_code))"
   ]
  },
  {
   "cell_type": "markdown",
   "id": "7ba173a3",
   "metadata": {},
   "source": [
    "### 1.2) GetMetadataTagTypes\n",
    "Uses the _v1/Metadata/TagTypes_ RDMS REST API endpoint and takes no parameters. \n",
    "The script returns a list of the available metadata Tag Types."
   ]
  },
  {
   "cell_type": "code",
   "execution_count": null,
   "id": "24cec28a",
   "metadata": {},
   "outputs": [],
   "source": [
    "result = requests.get(api + '/Metadata/TagTypes', headers=headers, verify=True)\n",
    "\n",
    "if result.status_code == 200:\n",
    "    print(result.json())\n",
    "else:\n",
    "    print('Request failed: ' + str(result.status_code))"
   ]
  },
  {
   "cell_type": "markdown",
   "id": "0ff99aff",
   "metadata": {},
   "source": [
    "### 1.3) MetadataSearch\n",
    "Uses the _v1/Metadata/Search_ RMDS REST API endpoint and takes no mandatory parameters. The script lists curves by metadata keyword search. Lists all CurveIDs that match the search terms, along with their metadata. If no search terms are provided, the script will pull back all permissioned Curve metadata."
   ]
  },
  {
   "cell_type": "code",
   "execution_count": null,
   "id": "166e610a",
   "metadata": {},
   "outputs": [],
   "source": [
    "searchQuery = 'Commodity=Power Geography.is=Germany'\n",
    "result = requests.get(api + '/Metadata/Search?query='+searchQuery+'&MaxResults=100', headers=headers, verify=True)\n",
    "\n",
    "if result.status_code == 200:\n",
    "    for value in result.json():\n",
    "        print(value)\n",
    "else:\n",
    "    print('Request failed: ' + str(result.status_code))"
   ]
  },
  {
   "cell_type": "markdown",
   "id": "deee43b9",
   "metadata": {},
   "source": [
    "### 1.4) MetadataSearchCSV\n",
    "Uses the _v1/Metadata/Search_ RDMS REST API endpoint, and follows the same \n",
    "description as in _example 1.3) MetadataSearch_, however the results are returned in CSV format."
   ]
  },
  {
   "cell_type": "code",
   "execution_count": null,
   "id": "131a608b",
   "metadata": {},
   "outputs": [],
   "source": [
    "searchQuery = 'Commodity=Power Geography.is=Germany'\n",
    "result = requests.get(api + '/Metadata/Search?query='+searchQuery+'&MaxResults=100', headers=headers, verify=True)\n",
    "\n",
    "if result.status_code == 200:\n",
    "    decoded_content = result.content.decode('utf-8')\n",
    "    cr = csv.reader(decoded_content.splitlines(), delimiter='\\n')\n",
    "    my_list = list(cr)\n",
    "\n",
    "    print('matching records...')\n",
    "    for row in my_list:\n",
    "        print(row)\n",
    "else:\n",
    "    print('Request failed: ' + str(result.status_code))"
   ]
  },
  {
   "cell_type": "markdown",
   "id": "a352489a",
   "metadata": {},
   "source": [
    "### 1.5) RegisterNewMetadataTag\n",
    "Uses the _v1/Metadata/RegisterTag_ RDMS REST API endpoint and has one parameter TagName. The script registers a new metadata tag making it available to be used on curves."
   ]
  },
  {
   "cell_type": "code",
   "execution_count": null,
   "id": "37336776",
   "metadata": {},
   "outputs": [],
   "source": [
    "tagName = 'MyCustomTag'\n",
    "result = requests.post(api + '/Metadata/RegisterTag?TagName='+str(tagName), headers=headers, verify=True)\n",
    "\n",
    "if result.status_code == 200:\n",
    "    print('New tag saved')\n",
    "else:\n",
    "    print('HTTP ' + str(result.status_code) + ' failed to save')"
   ]
  },
  {
   "cell_type": "markdown",
   "id": "15ce333c",
   "metadata": {},
   "source": [
    "### 1.6) SetMetadataTagValue\n",
    "Uses the _v1/Metadata/RegisterCurveTag_ RDMS REST API endpoint and has three parameters, CurveID, TagName and TagValue. The script registers a new metadata tag making it available to be used on curves"
   ]
  },
  {
   "cell_type": "code",
   "execution_count": null,
   "id": "a7f18910",
   "metadata": {},
   "outputs": [],
   "source": [
    "#desired curve id\n",
    "curveid = 910000122\n",
    "#desired tag name\n",
    "tagName = 'MyCustomTag'\n",
    "#desired tag value\n",
    "tagValue = 'MyCustomTagValue'\n",
    "\n",
    "result = requests.post(api + '/Metadata/RegisterCurveTag?CurveID='+str(curveid)+'&TagName='+str(tagName)+'&TagValue='+str(tagValue), headers=headers, verify=True)\n",
    "\n",
    "if result.status_code == 200:\n",
    "    print('New tag value saved')\n",
    "else:\n",
    "    print('HTTP ' + str(result.status_code) + ' failed to save')"
   ]
  }
 ],
 "metadata": {
  "kernelspec": {
   "display_name": "Python 3 (ipykernel)",
   "language": "python",
   "name": "python3"
  },
  "language_info": {
   "codemirror_mode": {
    "name": "ipython",
    "version": 3
   },
   "file_extension": ".py",
   "mimetype": "text/x-python",
   "name": "python",
   "nbconvert_exporter": "python",
   "pygments_lexer": "ipython3",
   "version": "3.9.12"
  }
 },
 "nbformat": 4,
 "nbformat_minor": 5
}
