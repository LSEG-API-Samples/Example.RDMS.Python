{
 "cells": [
  {
   "cell_type": "markdown",
   "id": "1a70db87",
   "metadata": {},
   "source": [
    "# 6) Tabular Data\n",
    "### Preparation step\n",
    "First we need to import necessary libraries and configuration from the config.ini file"
   ]
  },
  {
   "cell_type": "code",
   "execution_count": null,
   "id": "41b07f05",
   "metadata": {},
   "outputs": [],
   "source": [
    "import datetime\n",
    "import requests\n",
    "import json\n",
    "import configparser\n",
    "\n",
    "#config\n",
    "config = configparser.ConfigParser()\n",
    "config.read('C:\\\\RDMSPython\\\\config.ini')\n",
    "api = config['RDMS']['Api']\n",
    "headers = { 'Authorization' : config['RDMS']['Key'] }"
   ]
  },
  {
   "cell_type": "markdown",
   "id": "ee4b1815",
   "metadata": {},
   "source": [
    "### 6.1) TabularDataTypes\n",
    "Uses the _v1/TabularData/DataTypes_ RDMS REST API endpoint and has no parameters. \n",
    "The script returns all permissioned Tabular Data."
   ]
  },
  {
   "cell_type": "code",
   "execution_count": null,
   "id": "0625b5cd",
   "metadata": {},
   "outputs": [],
   "source": [
    "#params\n",
    "dataType = 'Flows LNG'\n",
    "fields = '*'\n",
    "maxRows = '50'\n",
    "filter = 'DischargeCountry=China;LoadCountry=Malaysia'\n",
    "\n",
    "print('requesting flow data ...')\n",
    "result = requests.get(api + '/TabularData/Data/'+dataType+'?Fields='+fields+'&MaxRows='+maxRows+'&Filter='+filter, headers=headers, verify=True)\n",
    "\n",
    "values = result.json()\n",
    "\n",
    "print('flow data records...')\n",
    "for c in values['data']:\n",
    "    print(c)"
   ]
  },
  {
   "cell_type": "markdown",
   "id": "b872a33e",
   "metadata": {},
   "source": [
    "### 6.2) TabularDataFields\n",
    "Uses the _v1/TabularData/DataFields/{DataType}_ RDMS REST API endpoint, it has a mandatory parameter of DataType. The script returns all the available data fields for a provided data type."
   ]
  },
  {
   "cell_type": "code",
   "execution_count": null,
   "id": "4f42f192",
   "metadata": {},
   "outputs": [],
   "source": [
    "#params\n",
    "dataType = 'Flows LNG'\n",
    "\n",
    "print('requesting tabular data fields for data type '+dataType+'...')\n",
    "result = requests.get(api + '/TabularData/DataFields/'+dataType, headers=headers, verify=True)\n",
    "\n",
    "values = result.json()\n",
    "for value in values:\n",
    "    print(value)"
   ]
  },
  {
   "cell_type": "markdown",
   "id": "004d8087",
   "metadata": {},
   "source": [
    "### 6.3) TabularDataTypeDataFieldValues\n",
    "Uses the _v1/TabularData/DataFieldValues/{DataType}/{FieldName}_ RDMS REST API endpoint, and has two mandatory parameters, DataType and FieldName. This script will return all the available values for a given field name of a given data type."
   ]
  },
  {
   "cell_type": "code",
   "execution_count": null,
   "id": "3ebfd324",
   "metadata": {},
   "outputs": [],
   "source": [
    "#params\n",
    "dataType = 'Flows LNG'\n",
    "fieldName = 'Vessel'\n",
    "\n",
    "print('requesting distinct data field values for tabular data type '+dataType+' and field '+fieldName+'...')\n",
    "result = requests.get(api + '/TabularData/DataFieldValues/'+dataType+'/'+fieldName, headers=headers, verify=True)\n",
    "\n",
    "values = result.json()\n",
    "for value in values:\n",
    "    print(value)"
   ]
  },
  {
   "cell_type": "markdown",
   "id": "831813d3",
   "metadata": {},
   "source": [
    "### 6.4) FetchTabularDataFilters\n",
    "Uses the _v1/TabularData/Data/{DataType}_ RDMS REST API endpoint, and has one mandatory parameters, DataType. There are useful non-mandatory parameters available which are used to filter results returned by this endpoint. This script will return all the available values for a given data type, which falls into the filter entered into the filtered parameter. With no parameter the full data set would be returned. In order to do this correctly use the PageSize and SkipSize parameters."
   ]
  },
  {
   "cell_type": "code",
   "execution_count": null,
   "id": "6519d5c3",
   "metadata": {},
   "outputs": [],
   "source": [
    "#params\n",
    "dataType = 'Flows LNG'\n",
    "fields = '*'\n",
    "maxRows = '50'\n",
    "filter = 'DischargeCountry=China;LoadCountry=Malaysia'\n",
    "\n",
    "print('requesting flow data ...')\n",
    "result = requests.get(api + '/TabularData/Data/'+dataType+'?Fields='+fields+'&MaxRows='+maxRows+'&Filter='+filter, headers=headers, verify=True)\n",
    "\n",
    "values = result.json()\n",
    "\n",
    "print('flow data records...')\n",
    "for c in values['data']:\n",
    "    print(c)"
   ]
  },
  {
   "cell_type": "markdown",
   "id": "17d8b00a",
   "metadata": {},
   "source": [
    "### 6.5) FetchTabularDataFiltersCSV\n",
    "Uses the _v1/TabularData/Data/{DataType}_ RDMS REST API endpoint, and follows the same description as _example 6.4) FetchTabularDataFilters_ However, this script will pull the results back in CSV format."
   ]
  },
  {
   "cell_type": "code",
   "execution_count": null,
   "id": "c795d389",
   "metadata": {},
   "outputs": [],
   "source": [
    "#params\n",
    "dataType = 'Flows LNG'\n",
    "fields = '*'\n",
    "maxRows = '50'\n",
    "filter = 'DischargeCountry=China;LoadCountry=Malaysia'\n",
    "\n",
    "print('requesting flow data ...')\n",
    "result = requests.get(api + '/TabularData/Data/'+dataType+'?Fields='+fields+'&MaxRows='+maxRows+'&Filter='+filter, headers=headers, verify=True)\n",
    "\n",
    "decoded_content = result.content.decode('utf-8')\n",
    "cr = csv.reader(decoded_content.splitlines(), delimiter='\\n')\n",
    "#df = pd.DataFrame(cr)\n",
    "#print(cr)\n",
    "my_list = list(cr)\n",
    "\n",
    "print('flow data records...')\n",
    "for row in my_list:\n",
    "    print(row)"
   ]
  }
 ],
 "metadata": {
  "kernelspec": {
   "display_name": "Python 3 (ipykernel)",
   "language": "python",
   "name": "python3"
  },
  "language_info": {
   "codemirror_mode": {
    "name": "ipython",
    "version": 3
   },
   "file_extension": ".py",
   "mimetype": "text/x-python",
   "name": "python",
   "nbconvert_exporter": "python",
   "pygments_lexer": "ipython3",
   "version": "3.9.12"
  }
 },
 "nbformat": 4,
 "nbformat_minor": 5
}
